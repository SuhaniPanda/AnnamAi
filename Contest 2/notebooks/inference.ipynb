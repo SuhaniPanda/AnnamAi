{
 "cells": [
  {
   "cell_type": "code",
   "execution_count": null,
   "id": "2d3f0753",
   "metadata": {
    "vscode": {
     "languageId": "plaintext"
    }
   },
   "outputs": [],
   "source": [
    "\"\"\"\n",
    "Soil Classification Inference Notebook\n",
    "Team: SoilClassifiers\n",
    "\"\"\"\n",
    "\n",
    "import os\n",
    "import torch\n",
    "from src.model import SoilClassifier\n",
    "from src.postprocessing import predict_with_augmentation\n",
    "from PIL import Image\n",
    "import pandas as pd\n",
    "\n",
    "# Configuration\n",
    "DATA_DIR = \"/kaggle/input/soil-classification-part-2/soil_competition-2025\"\n",
    "MODEL_PATH = \"soil_classifier.pth\"\n",
    "THRESHOLD = 0.95\n",
    "\n",
    "# Load model\n",
    "device = torch.device(\"cuda\" if torch.cuda.is_available() else \"cpu\")\n",
    "model = SoilClassifier().to(device)\n",
    "model.load_state_dict(torch.load(MODEL_PATH))\n",
    "model.eval()\n",
    "\n",
    "# Load test data\n",
    "test_df = pd.read_csv(os.path.join(DATA_DIR, \"test_ids.csv\"))\n",
    "predictions = []\n",
    "\n",
    "# Inference loop\n",
    "for _, row in test_df.iterrows():\n",
    "    img_path = os.path.join(DATA_DIR, \"test\", row['image_id'])\n",
    "    img = Image.open(img_path).convert('RGB')\n",
    "    prob = predict_with_augmentation(model, img)\n",
    "    pred = 1 if prob > THRESHOLD else 0\n",
    "    predictions.append((row['image_id'], pred))\n",
    "\n",
    "# Create submission\n",
    "pd.DataFrame(predictions, columns=['image_id', 'label']).to_csv(\"submission.csv\", index=False)\n"
   ]
  }
 ],
 "metadata": {
  "language_info": {
   "name": "python"
  }
 },
 "nbformat": 4,
 "nbformat_minor": 5
}
