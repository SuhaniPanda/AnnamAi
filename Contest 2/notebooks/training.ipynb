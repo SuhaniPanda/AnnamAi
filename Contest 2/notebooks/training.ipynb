{
 "cells": [
  {
   "cell_type": "code",
   "execution_count": null,
   "id": "85b38ee1",
   "metadata": {
    "vscode": {
     "languageId": "plaintext"
    }
   },
   "outputs": [],
   "source": [
    "\"\"\"\n",
    "Soil Classification Model Training Notebook\n",
    "Team: SoilClassifiers\n",
    "Kaggle Competition: Soil Classification Part 2\n",
    "\"\"\"\n",
    "\n",
    "# Import dependencies\n",
    "%load_ext autoreload\n",
    "%autoreload 2\n",
    "\n",
    "import os\n",
    "import torch\n",
    "from src.preprocessing import SoilImageDataset, SyntheticNegativeGenerator\n",
    "from src.postprocessing import evaluate_model, print_epoch_stats\n",
    "from src.model import SoilClassifier\n",
    "from torch.utils.data import DataLoader\n",
    "import albumentations as A\n",
    "from albumentations.pytorch import ToTensorV2\n",
    "from tqdm import tqdm\n",
    "\n",
    "# Configuration\n",
    "class Config:\n",
    "    DATA_DIR = \"/kaggle/input/soil-classification-part-2/soil_competition-2025\"\n",
    "    BATCH_SIZE = 32\n",
    "    IMG_SIZE = 256\n",
    "    EPOCHS = 30\n",
    "    LR = 1e-4\n",
    "    SEED = 42\n",
    "\n",
    "cfg = Config()\n",
    "\n",
    "# Initialize\n",
    "device = torch.device(\"cuda\" if torch.cuda.is_available() else \"cpu\")\n",
    "torch.manual_seed(cfg.SEED)\n",
    "\n",
    "# Data loading\n",
    "train_df = pd.read_csv(os.path.join(cfg.DATA_DIR, \"train_labels.csv\"))\n",
    "train_df['label'] = 1  # All are positive samples\n",
    "\n",
    "# Dataset and DataLoader\n",
    "train_aug = A.Compose([...])  # Same as in original code\n",
    "neg_gen = SyntheticNegativeGenerator(os.path.join(cfg.DATA_DIR, \"train\"))\n",
    "train_set = SoilImageDataset(train_df, os.path.join(cfg.DATA_DIR, \"train\"), \n",
    "                           transform=train_aug, neg_generator=neg_gen)\n",
    "train_loader = DataLoader(train_set, batch_size=cfg.BATCH_SIZE, shuffle=True)\n",
    "\n",
    "# Model setup\n",
    "model = SoilClassifier().to(device)\n",
    "optimizer = torch.optim.AdamW(model.parameters(), lr=cfg.LR)\n",
    "criterion = nn.BCEWithLogitsLoss()\n",
    "\n",
    "# Training loop\n",
    "for epoch in range(cfg.EPOCHS):\n",
    "    model.train()\n",
    "    for images, labels in tqdm(train_loader):\n",
    "        # Training steps...\n",
    "        pass\n",
    "    \n",
    "    # Validation and logging\n",
    "    val_metrics = evaluate_model(model, val_loader)\n",
    "    print_epoch_stats(epoch, train_loss, val_metrics)\n",
    "\n",
    "# Save model\n",
    "torch.save(model.state_dict(), 'soil_classifier.pth')\n"
   ]
  }
 ],
 "metadata": {
  "language_info": {
   "name": "python"
  }
 },
 "nbformat": 4,
 "nbformat_minor": 5
}
