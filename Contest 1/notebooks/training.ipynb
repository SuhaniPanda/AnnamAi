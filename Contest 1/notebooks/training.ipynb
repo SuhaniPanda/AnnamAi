{
 "cells": [
  {
   "cell_type": "code",
   "execution_count": null,
   "id": "85b38ee1",
   "metadata": {
    "vscode": {
     "languageId": "plaintext"
    }
   },
   "outputs": [],
   "source": [
    "# Training Notebook\n",
    "import os\n",
    "import numpy as np\n",
    "import pandas as pd\n",
    "from tensorflow.keras.utils import to_categorical\n",
    "from tensorflow.keras.models import Sequential\n",
    "from tensorflow.keras.layers import Conv2D, MaxPooling2D, Flatten, Dense, Dropout\n",
    "from tensorflow.keras.preprocessing.image import load_img, img_to_array\n",
    "from sklearn.model_selection import train_test_split\n",
    "\n",
    "base_path = \"../data\"\n",
    "image_size = (224, 224)\n",
    "\n",
    "train_csv = pd.read_csv(os.path.join(base_path, \"train_labels.csv\"))\n",
    "train_dir = os.path.join(base_path, \"train\")\n",
    "\n",
    "X, y = [], []\n",
    "for _, row in train_csv.iterrows():\n",
    "    img = load_img(os.path.join(train_dir, row['image_id']), target_size=image_size)\n",
    "    img = img_to_array(img) / 255.0\n",
    "    X.append(img)\n",
    "    y.append(row['soil_type'])\n",
    "\n",
    "X = np.array(X)\n",
    "y = to_categorical(pd.Categorical(y).codes)\n",
    "\n",
    "X_train, X_val, y_train, y_val = train_test_split(X, y, test_size=0.2, random_state=33)\n",
    "\n",
    "model = Sequential([\n",
    "    Conv2D(32, (3,3), activation='relu', input_shape=(224,224,3)),\n",
    "    MaxPooling2D(2,2),\n",
    "    Conv2D(64, (3,3), activation='relu'),\n",
    "    MaxPooling2D(2,2),\n",
    "    Flatten(),\n",
    "    Dense(128, activation='relu'),\n",
    "    Dropout(0.5),\n",
    "    Dense(4, activation='softmax')\n",
    "])\n",
    "\n",
    "model.compile(optimizer='adam', loss='categorical_crossentropy', metrics=['accuracy'])\n",
    "history = model.fit(X_train, y_train, validation_data=(X_val, y_val), epochs=10)\n"
   ]
  }
 ],
 "metadata": {
  "language_info": {
   "name": "python"
  }
 },
 "nbformat": 4,
 "nbformat_minor": 5
}
