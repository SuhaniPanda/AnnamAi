# Inference Notebook
import os
import numpy as np
import pandas as pd
from tensorflow.keras.models import load_model
from tensorflow.keras.preprocessing.image import load_img, img_to_array

base_path = "../data"
test_dir = os.path.join(base_path, "test")
test_csv = pd.read_csv(os.path.join(base_path, "test_ids.csv"))
image_size = (224, 224)

X_test = []
for _, row in test_csv.iterrows():
    img = load_img(os.path.join(test_dir, row['image_id']), target_size=image_size)
    img = img_to_array(img) / 255.0
    X_test.append(img)

X_test = np.array(X_test)

# Assume model from training.ipynb
from training import model  
preds = model.predict(X_test)
pred_labels = np.argmax(preds, axis=1)

label_map = dict(enumerate(pd.Categorical(pd.read_csv(os.path.join(base_path, "train_labels.csv"))['soil_type']).categories))
final_preds = [label_map[i] for i in pred_labels]

submission = pd.DataFrame({'image_id': test_csv['image_id'], 'soil_type': final_preds})
submission.to_csv("submission.csv", index=False)
