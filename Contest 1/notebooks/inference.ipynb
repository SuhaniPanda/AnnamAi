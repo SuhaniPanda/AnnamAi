{
 "cells": [
  {
   "cell_type": "code",
   "execution_count": null,
   "id": "2d3f0753",
   "metadata": {
    "vscode": {
     "languageId": "plaintext"
    }
   },
   "outputs": [],
   "source": [
    "# Inference Notebook\n",
    "import os\n",
    "import numpy as np\n",
    "import pandas as pd\n",
    "from tensorflow.keras.models import load_model\n",
    "from tensorflow.keras.preprocessing.image import load_img, img_to_array\n",
    "\n",
    "base_path = \"../data\"\n",
    "test_dir = os.path.join(base_path, \"test\")\n",
    "test_csv = pd.read_csv(os.path.join(base_path, \"test_ids.csv\"))\n",
    "image_size = (224, 224)\n",
    "\n",
    "X_test = []\n",
    "for _, row in test_csv.iterrows():\n",
    "    img = load_img(os.path.join(test_dir, row['image_id']), target_size=image_size)\n",
    "    img = img_to_array(img) / 255.0\n",
    "    X_test.append(img)\n",
    "\n",
    "X_test = np.array(X_test)\n",
    "\n",
    "# Assume model from training.ipynb\n",
    "from training import model  \n",
    "preds = model.predict(X_test)\n",
    "pred_labels = np.argmax(preds, axis=1)\n",
    "\n",
    "label_map = dict(enumerate(pd.Categorical(pd.read_csv(os.path.join(base_path, \"train_labels.csv\"))['soil_type']).categories))\n",
    "final_preds = [label_map[i] for i in pred_labels]\n",
    "\n",
    "submission = pd.DataFrame({'image_id': test_csv['image_id'], 'soil_type': final_preds})\n",
    "submission.to_csv(\"submission.csv\", index=False)\n"
   ]
  }
 ],
 "metadata": {
  "language_info": {
   "name": "python"
  }
 },
 "nbformat": 4,
 "nbformat_minor": 5
}
